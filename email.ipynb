{
 "cells": [
  {
   "cell_type": "code",
   "execution_count": 18,
   "metadata": {},
   "outputs": [],
   "source": [
    "import win32com.client as win32\n",
    "import os\n",
    "import pandas as pd\n",
    "import datetime as dt\n",
    "import win32com\n",
    "from win32com.client import Dispatch\n",
    "\n"
   ]
  },
  {
   "cell_type": "code",
   "execution_count": 4,
   "metadata": {},
   "outputs": [
    {
     "name": "stdout",
     "output_type": "stream",
     "text": [
      "Email Enviado\n"
     ]
    }
   ],
   "source": [
    "# criar a integração com o outlook\n",
    "outlook = win32.Dispatch('outlook.application')\n",
    "\n",
    "# criar um email\n",
    "email = outlook.CreateItem(0)\n",
    "\n",
    "faturamento = 1500\n",
    "qtde_produtos = 10\n",
    "ticket_medio = faturamento / qtde_produtos\n",
    "\n",
    "# configurar as informações do seu e-mail\n",
    "email.To = \"nataliaartilha@usp.br\"\n",
    "email.Subject = \"E-mail automático do Python\"\n",
    "email.HTMLBody = f\"\"\"\n",
    "<p>Boa tarde, prezados!</p>\n",
    "\n",
    "<p>O faturamento da loja foi de R${faturamento}</p>\n",
    "<p>Operação realizada</p>\n",
    "<p>Segue o PU:</p>\n",
    "\n",
    "<p>Abs,</p>\n",
    "<p>Código Python</p>\n",
    "\"\"\"\n",
    "\n",
    "anexo = \"G:/depto/RENDA/Natalia Artilha/boleta_agora.xlsx\"\n",
    "email.Attachments.Add(anexo)\n",
    "\n",
    "email.Send()\n",
    "print(\"Email Enviado\")"
   ]
  },
  {
   "cell_type": "code",
   "execution_count": 22,
   "metadata": {},
   "outputs": [],
   "source": [
    "\n",
    "outlook = win32com.client.Dispatch(\"Outlook.Application\").GetNamespace(\"MAPI\")\n",
    "inbox = outlook.GetDefaultFolder(6)\n",
    "messages = inbox.Items\n",
    "\n",
    "#Empty Lists\n",
    "email_subject = []\n",
    "email_date = []\n",
    "email_content = []\n",
    "\n",
    "#find emails\n",
    "\n",
    "for message in messages:\n",
    "    if message.Class == 43:\n",
    "        if message.SenderEmailAddress == 'lucas.santana@agorainvestimentos.com.br' and message.Subject.startswith('Novas'):\n",
    "            email_subject.append(message.Subject)\n",
    "            email_date.append(message.senton.date()) \n",
    "            email_content.append(message.body)"
   ]
  },
  {
   "cell_type": "code",
   "execution_count": 13,
   "metadata": {},
   "outputs": [
    {
     "ename": "NameError",
     "evalue": "name 'main' is not defined",
     "output_type": "error",
     "traceback": [
      "\u001b[1;31m---------------------------------------------------------------------------\u001b[0m",
      "\u001b[1;31mNameError\u001b[0m                                 Traceback (most recent call last)",
      "Cell \u001b[1;32mIn[13], line 1\u001b[0m\n\u001b[1;32m----> 1\u001b[0m main\u001b[39m.\u001b[39mpy\n",
      "\u001b[1;31mNameError\u001b[0m: name 'main' is not defined"
     ]
    }
   ],
   "source": [
    "main.py"
   ]
  }
 ],
 "metadata": {
  "kernelspec": {
   "display_name": "Python 3",
   "language": "python",
   "name": "python3"
  },
  "language_info": {
   "codemirror_mode": {
    "name": "ipython",
    "version": 3
   },
   "file_extension": ".py",
   "mimetype": "text/x-python",
   "name": "python",
   "nbconvert_exporter": "python",
   "pygments_lexer": "ipython3",
   "version": "3.11.0"
  },
  "orig_nbformat": 4
 },
 "nbformat": 4,
 "nbformat_minor": 2
}
